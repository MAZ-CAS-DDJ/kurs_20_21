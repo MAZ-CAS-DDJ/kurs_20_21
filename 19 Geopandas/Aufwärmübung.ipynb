{
 "cells": [
  {
   "cell_type": "markdown",
   "metadata": {},
   "source": [
    "# Aufwärmübung\n",
    "\n",
    "**Inhalt:** Shapely-Shapes\n",
    "\n",
    "**Nötige Skills**\n",
    "- Basic pandas skills\n",
    "\n",
    "**Lernziele**\n",
    "- Punkte, Linien, Polygone"
   ]
  },
  {
   "cell_type": "markdown",
   "metadata": {},
   "source": [
    "## Setup"
   ]
  },
  {
   "cell_type": "code",
   "execution_count": 1,
   "metadata": {},
   "outputs": [],
   "source": [
    "import pandas as pd\n",
    "import geopandas as gpd\n",
    "from shapely.geometry import Point, LineString, Polygon\n",
    "%matplotlib inline"
   ]
  },
  {
   "cell_type": "code",
   "execution_count": null,
   "metadata": {},
   "outputs": [],
   "source": []
  },
  {
   "cell_type": "markdown",
   "metadata": {},
   "source": [
    "## Shapely\n",
    "\n",
    "Eine Library zur mathematischen Analyse von Formen und für die Geometrie: https://shapely.readthedocs.io/en/stable/"
   ]
  },
  {
   "cell_type": "markdown",
   "metadata": {},
   "source": [
    "### Point"
   ]
  },
  {
   "cell_type": "code",
   "execution_count": 2,
   "metadata": {},
   "outputs": [],
   "source": [
    "x1 = 5\n",
    "y1 = 5"
   ]
  },
  {
   "cell_type": "code",
   "execution_count": 3,
   "metadata": {},
   "outputs": [],
   "source": [
    "punkt1 = Point(x1, y1)"
   ]
  },
  {
   "cell_type": "code",
   "execution_count": 4,
   "metadata": {},
   "outputs": [
    {
     "data": {
      "image/svg+xml": [
       "<svg xmlns=\"http://www.w3.org/2000/svg\" xmlns:xlink=\"http://www.w3.org/1999/xlink\" width=\"100.0\" height=\"100.0\" viewBox=\"4.0 4.0 2.0 2.0\" preserveAspectRatio=\"xMinYMin meet\"><g transform=\"matrix(1,0,0,-1,0,10.0)\"><circle cx=\"5.0\" cy=\"5.0\" r=\"0.06\" stroke=\"#555555\" stroke-width=\"0.02\" fill=\"#66cc99\" opacity=\"0.6\" /></g></svg>"
      ],
      "text/plain": [
       "<shapely.geometry.point.Point at 0x11808ec50>"
      ]
     },
     "execution_count": 4,
     "metadata": {},
     "output_type": "execute_result"
    }
   ],
   "source": [
    "punkt1"
   ]
  },
  {
   "cell_type": "markdown",
   "metadata": {},
   "source": [
    "### Line"
   ]
  },
  {
   "cell_type": "code",
   "execution_count": 5,
   "metadata": {},
   "outputs": [],
   "source": [
    "x2a = 20\n",
    "y2a = 0\n",
    "\n",
    "x2b = 0\n",
    "y2b = 20"
   ]
  },
  {
   "cell_type": "code",
   "execution_count": 6,
   "metadata": {},
   "outputs": [],
   "source": [
    "linie1 = LineString([Point(x2a, y2a), Point(x2b, y2b)])"
   ]
  },
  {
   "cell_type": "code",
   "execution_count": 7,
   "metadata": {},
   "outputs": [
    {
     "data": {
      "image/svg+xml": [
       "<svg xmlns=\"http://www.w3.org/2000/svg\" xmlns:xlink=\"http://www.w3.org/1999/xlink\" width=\"100.0\" height=\"100.0\" viewBox=\"-0.8 -0.8 21.6 21.6\" preserveAspectRatio=\"xMinYMin meet\"><g transform=\"matrix(1,0,0,-1,0,20.0)\"><polyline fill=\"none\" stroke=\"#66cc99\" stroke-width=\"0.43200000000000005\" points=\"20.0,0.0 0.0,20.0\" opacity=\"0.8\" /></g></svg>"
      ],
      "text/plain": [
       "<shapely.geometry.linestring.LineString at 0x1180aa7f0>"
      ]
     },
     "execution_count": 7,
     "metadata": {},
     "output_type": "execute_result"
    }
   ],
   "source": [
    "linie1"
   ]
  },
  {
   "cell_type": "markdown",
   "metadata": {},
   "source": [
    "### Polygon"
   ]
  },
  {
   "cell_type": "code",
   "execution_count": 8,
   "metadata": {},
   "outputs": [],
   "source": [
    "x3a = 0\n",
    "y3a = 0\n",
    "\n",
    "x3b = 10\n",
    "y3b = 0\n",
    "\n",
    "x3c = 10\n",
    "y3c = 10\n",
    "\n",
    "x3d = 0\n",
    "y3d = 10"
   ]
  },
  {
   "cell_type": "code",
   "execution_count": 9,
   "metadata": {},
   "outputs": [],
   "source": [
    "polygon1 = Polygon([[x3a, y3a], [x3b, y3b], [x3c, y3c], [x3a, y3d]])"
   ]
  },
  {
   "cell_type": "code",
   "execution_count": 10,
   "metadata": {
    "scrolled": true
   },
   "outputs": [
    {
     "data": {
      "image/svg+xml": [
       "<svg xmlns=\"http://www.w3.org/2000/svg\" xmlns:xlink=\"http://www.w3.org/1999/xlink\" width=\"100.0\" height=\"100.0\" viewBox=\"-0.4 -0.4 10.8 10.8\" preserveAspectRatio=\"xMinYMin meet\"><g transform=\"matrix(1,0,0,-1,0,10.0)\"><path fill-rule=\"evenodd\" fill=\"#66cc99\" stroke=\"#555555\" stroke-width=\"0.21600000000000003\" opacity=\"0.6\" d=\"M 0.0,0.0 L 10.0,0.0 L 10.0,10.0 L 0.0,10.0 L 0.0,0.0 z\" /></g></svg>"
      ],
      "text/plain": [
       "<shapely.geometry.polygon.Polygon at 0x1180aafd0>"
      ]
     },
     "execution_count": 10,
     "metadata": {},
     "output_type": "execute_result"
    }
   ],
   "source": [
    "polygon1"
   ]
  },
  {
   "cell_type": "markdown",
   "metadata": {},
   "source": [
    "### Let's plot it"
   ]
  },
  {
   "cell_type": "code",
   "execution_count": 11,
   "metadata": {},
   "outputs": [],
   "source": [
    "df = pd.DataFrame({'geometry': [punkt1, linie1]})"
   ]
  },
  {
   "cell_type": "code",
   "execution_count": 12,
   "metadata": {},
   "outputs": [],
   "source": [
    "gdf = gpd.GeoDataFrame(df, geometry='geometry')"
   ]
  },
  {
   "cell_type": "code",
   "execution_count": 13,
   "metadata": {},
   "outputs": [
    {
     "data": {
      "text/html": [
       "<div>\n",
       "<style scoped>\n",
       "    .dataframe tbody tr th:only-of-type {\n",
       "        vertical-align: middle;\n",
       "    }\n",
       "\n",
       "    .dataframe tbody tr th {\n",
       "        vertical-align: top;\n",
       "    }\n",
       "\n",
       "    .dataframe thead th {\n",
       "        text-align: right;\n",
       "    }\n",
       "</style>\n",
       "<table border=\"1\" class=\"dataframe\">\n",
       "  <thead>\n",
       "    <tr style=\"text-align: right;\">\n",
       "      <th></th>\n",
       "      <th>geometry</th>\n",
       "    </tr>\n",
       "  </thead>\n",
       "  <tbody>\n",
       "    <tr>\n",
       "      <td>0</td>\n",
       "      <td>POINT (5 5)</td>\n",
       "    </tr>\n",
       "    <tr>\n",
       "      <td>1</td>\n",
       "      <td>LINESTRING (20 0, 0 20)</td>\n",
       "    </tr>\n",
       "  </tbody>\n",
       "</table>\n",
       "</div>"
      ],
      "text/plain": [
       "                  geometry\n",
       "0              POINT (5 5)\n",
       "1  LINESTRING (20 0, 0 20)"
      ]
     },
     "execution_count": 13,
     "metadata": {},
     "output_type": "execute_result"
    }
   ],
   "source": [
    "gdf"
   ]
  },
  {
   "cell_type": "code",
   "execution_count": 14,
   "metadata": {},
   "outputs": [
    {
     "data": {
      "text/plain": [
       "<matplotlib.axes._subplots.AxesSubplot at 0x1180b7d68>"
      ]
     },
     "execution_count": 14,
     "metadata": {},
     "output_type": "execute_result"
    },
    {
     "data": {
      "image/png": "[encoded data removed]",
      "text/plain": [
       "<Figure size 432x288 with 1 Axes>"
      ]
     },
     "metadata": {
      "needs_background": "light"
     },
     "output_type": "display_data"
    }
   ],
   "source": [
    "gdf.plot(alpha=0.5, linewidth=2, edgecolor='black', markersize=5)"
   ]
  },
  {
   "cell_type": "code",
   "execution_count": null,
   "metadata": {},
   "outputs": [],
   "source": []
  },
  {
   "cell_type": "markdown",
   "metadata": {},
   "source": [
    "## Your Turn\n",
    "\n",
    "Wir spielen Picasso und zeichnen ein Haus.\n",
    "\n",
    "**Aufgabe:** Definieren Sie ein paar Rechtecke, Linien und Punkte..."
   ]
  },
  {
   "cell_type": "code",
   "execution_count": null,
   "metadata": {},
   "outputs": [],
   "source": []
  },
  {
   "cell_type": "code",
   "execution_count": null,
   "metadata": {},
   "outputs": [],
   "source": []
  },
  {
   "cell_type": "code",
   "execution_count": null,
   "metadata": {},
   "outputs": [],
   "source": []
  },
  {
   "cell_type": "code",
   "execution_count": null,
   "metadata": {},
   "outputs": [],
   "source": []
  },
  {
   "cell_type": "code",
   "execution_count": null,
   "metadata": {},
   "outputs": [],
   "source": []
  },
  {
   "cell_type": "markdown",
   "metadata": {},
   "source": [
    "... fügen Sie die Objekte in ein Geodataframe und plotten Sie dieses!"
   ]
  },
  {
   "cell_type": "code",
   "execution_count": null,
   "metadata": {},
   "outputs": [],
   "source": []
  },
  {
   "cell_type": "code",
   "execution_count": null,
   "metadata": {},
   "outputs": [],
   "source": []
  },
  {
   "cell_type": "code",
   "execution_count": null,
   "metadata": {},
   "outputs": [],
   "source": []
  },
  {
   "cell_type": "code",
   "execution_count": null,
   "metadata": {},
   "outputs": [],
   "source": []
  },
  {
   "cell_type": "code",
   "execution_count": null,
   "metadata": {},
   "outputs": [],
   "source": []
  },
  {
   "cell_type": "code",
   "execution_count": null,
   "metadata": {},
   "outputs": [],
   "source": []
  },
  {
   "cell_type": "markdown",
   "metadata": {},
   "source": [
    "## Eigenschaften"
   ]
  },
  {
   "cell_type": "markdown",
   "metadata": {},
   "source": [
    "- Geometrie-Typ"
   ]
  },
  {
   "cell_type": "code",
   "execution_count": 15,
   "metadata": {},
   "outputs": [
    {
     "data": {
      "text/plain": [
       "'Polygon'"
      ]
     },
     "execution_count": 15,
     "metadata": {},
     "output_type": "execute_result"
    }
   ],
   "source": [
    "polygon1.geom_type"
   ]
  },
  {
   "cell_type": "markdown",
   "metadata": {},
   "source": [
    "- Fläche"
   ]
  },
  {
   "cell_type": "code",
   "execution_count": 16,
   "metadata": {},
   "outputs": [
    {
     "data": {
      "text/plain": [
       "100.0"
      ]
     },
     "execution_count": 16,
     "metadata": {},
     "output_type": "execute_result"
    }
   ],
   "source": [
    "polygon1.area"
   ]
  },
  {
   "cell_type": "markdown",
   "metadata": {},
   "source": [
    "- Mittelpunkt"
   ]
  },
  {
   "cell_type": "code",
   "execution_count": 17,
   "metadata": {},
   "outputs": [
    {
     "data": {
      "image/svg+xml": [
       "<svg xmlns=\"http://www.w3.org/2000/svg\" xmlns:xlink=\"http://www.w3.org/1999/xlink\" width=\"100.0\" height=\"100.0\" viewBox=\"4.0 4.0 2.0 2.0\" preserveAspectRatio=\"xMinYMin meet\"><g transform=\"matrix(1,0,0,-1,0,10.0)\"><circle cx=\"5.0\" cy=\"5.0\" r=\"0.06\" stroke=\"#555555\" stroke-width=\"0.02\" fill=\"#66cc99\" opacity=\"0.6\" /></g></svg>"
      ],
      "text/plain": [
       "<shapely.geometry.point.Point at 0x11a2393c8>"
      ]
     },
     "execution_count": 17,
     "metadata": {},
     "output_type": "execute_result"
    }
   ],
   "source": [
    "polygon1.centroid"
   ]
  },
  {
   "cell_type": "markdown",
   "metadata": {},
   "source": [
    "- Rohdaten"
   ]
  },
  {
   "cell_type": "code",
   "execution_count": 18,
   "metadata": {},
   "outputs": [
    {
     "data": {
      "text/plain": [
       "'POLYGON ((0 0, 10 0, 10 10, 0 10, 0 0))'"
      ]
     },
     "execution_count": 18,
     "metadata": {},
     "output_type": "execute_result"
    }
   ],
   "source": [
    "polygon1.wkt"
   ]
  },
  {
   "cell_type": "code",
   "execution_count": null,
   "metadata": {},
   "outputs": [],
   "source": []
  },
  {
   "cell_type": "markdown",
   "metadata": {},
   "source": [
    "## Shapes modifizieren"
   ]
  },
  {
   "cell_type": "markdown",
   "metadata": {},
   "source": [
    "### Buffer\n",
    "\n",
    "Praktisch: Erstellt eine \"Pufferzone\" mit dem Radius x rund um ein Shape"
   ]
  },
  {
   "cell_type": "code",
   "execution_count": 19,
   "metadata": {},
   "outputs": [
    {
     "data": {
      "image/svg+xml": [
       "<svg xmlns=\"http://www.w3.org/2000/svg\" xmlns:xlink=\"http://www.w3.org/1999/xlink\" width=\"100.0\" height=\"100.0\" viewBox=\"1.76 1.76 6.48 6.48\" preserveAspectRatio=\"xMinYMin meet\"><g transform=\"matrix(1,0,0,-1,0,10.0)\"><path fill-rule=\"evenodd\" fill=\"#66cc99\" stroke=\"#555555\" stroke-width=\"0.12960000000000002\" opacity=\"0.6\" d=\"M 8.0,5.0 L 7.985554180016591,4.705948579011318 L 7.942355841209691,4.414729033951616 L 7.870821007196627,4.129145968236614 L 7.771638597533861,3.851949702904732 L 7.645763793045066,3.5858097895220085 L 7.4944088369076365,3.333289300941195 L 7.319031360088212,3.096820147509065 L 7.121320343559645,2.878679656440359 L 6.903179852490939,2.680968639911791 L 6.666710699058809,2.505591163092366 L 6.4141902104779955,2.3542362069549365 L 6.148050297095272,2.228361402466141 L 5.870854031763391,2.1291789928033746 L 5.585270966048389,2.0576441587903096 L 5.294051420988686,2.01444581998341 L 5.000000000000004,2.0 L 4.705948579011324,2.014445819983409 L 4.4147290339516205,2.057644158790308 L 4.129145968236618,2.1291789928033715 L 3.8519497029047365,2.2283614024661373 L 3.585809789522013,2.3542362069549316 L 3.333289300941199,2.505591163092361 L 3.096820147509068,2.6809686399117854 L 2.8786796564403616,2.878679656440353 L 2.680968639911793,3.0968201475090593 L 2.505591163092367,3.333289300941189 L 2.354236206954937,3.5858097895220027 L 2.2283614024661413,3.8519497029047267 L 2.1291789928033746,4.129145968236609 L 2.0576441587903096,4.414729033951612 L 2.0144458199834094,4.705948579011315 L 2.0,4.999999999999997 L 2.0144458199834094,5.294051420988679 L 2.057644158790308,5.585270966048382 L 2.129178992803373,5.870854031763385 L 2.228361402466139,6.148050297095268 L 2.3542362069549343,6.414190210477992 L 2.5055911630923635,6.666710699058806 L 2.6809686399117885,6.903179852490936 L 2.878679656440357,7.121320343559642 L 3.096820147509062,7.31903136008821 L 3.3332893009411912,7.494408836907634 L 3.585809789522004,7.645763793045063 L 3.8519497029047267,7.771638597533858 L 4.129145968236608,7.870821007196625 L 4.414729033951609,7.9423558412096895 L 4.705948579011311,7.98555418001659 L 4.999999999999991,8.0 L 5.294051420988672,7.9855541800165915 L 5.585270966048374,7.942355841209693 L 5.8708540317633755,7.87082100719663 L 6.148050297095258,7.771638597533865 L 6.414190210477981,7.645763793045072 L 6.666710699058795,7.494408836907644 L 6.903179852490925,7.31903136008822 L 7.121320343559631,7.121320343559654 L 7.3190313600882,6.9031798524909505 L 7.494408836907626,6.666710699058822 L 7.645763793045056,6.41419021047801 L 7.771638597533852,6.148050297095288 L 7.8708210071966205,5.8708540317634075 L 7.942355841209687,5.585270966048407 L 7.985554180016589,5.294051420988706 L 8.0,5.000000000000025 L 8.0,5.0 z\" /></g></svg>"
      ],
      "text/plain": [
       "<shapely.geometry.polygon.Polygon at 0x11a2390b8>"
      ]
     },
     "execution_count": 19,
     "metadata": {},
     "output_type": "execute_result"
    }
   ],
   "source": [
    "punkt1.buffer(3)"
   ]
  },
  {
   "cell_type": "markdown",
   "metadata": {},
   "source": [
    "Können wir auch plotten:"
   ]
  },
  {
   "cell_type": "code",
   "execution_count": 20,
   "metadata": {},
   "outputs": [
    {
     "data": {
      "text/plain": [
       "<matplotlib.axes._subplots.AxesSubplot at 0x11a1c24a8>"
      ]
     },
     "execution_count": 20,
     "metadata": {},
     "output_type": "execute_result"
    },
    {
     "data": {
      "image/png": "[encoded data removed]",
      "text/plain": [
       "<Figure size 432x288 with 1 Axes>"
      ]
     },
     "metadata": {
      "needs_background": "light"
     },
     "output_type": "display_data"
    }
   ],
   "source": [
    "gdf.buffer(0.5).plot(alpha=0.5, linewidth=2, edgecolor='black', markersize=5)"
   ]
  },
  {
   "cell_type": "markdown",
   "metadata": {},
   "source": [
    "### Union\n",
    "\n",
    "Auch praktisch: Vereinigt zwei (oder mehr) Shapes zu einer einzigen Shape."
   ]
  },
  {
   "cell_type": "code",
   "execution_count": 21,
   "metadata": {},
   "outputs": [],
   "source": [
    "linie2 = LineString([Point(0, 10), Point(5, 13), Point(10, 10)])"
   ]
  },
  {
   "cell_type": "code",
   "execution_count": 22,
   "metadata": {},
   "outputs": [
    {
     "data": {
      "image/svg+xml": [
       "<svg xmlns=\"http://www.w3.org/2000/svg\" xmlns:xlink=\"http://www.w3.org/1999/xlink\" width=\"100.0\" height=\"100.0\" viewBox=\"-0.52 -0.52 11.04 14.04\" preserveAspectRatio=\"xMinYMin meet\"><g transform=\"matrix(1,0,0,-1,0,13.0)\"><g><polyline fill=\"none\" stroke=\"#66cc99\" stroke-width=\"0.2808\" points=\"0.0,10.0 5.0,13.0 10.0,10.0\" opacity=\"0.8\" /><path fill-rule=\"evenodd\" fill=\"#66cc99\" stroke=\"#555555\" stroke-width=\"0.2808\" opacity=\"0.6\" d=\"M 10.0,10.0 L 10.0,0.0 L 0.0,0.0 L 0.0,10.0 L 10.0,10.0 z\" /></g></g></svg>"
      ],
      "text/plain": [
       "<shapely.geometry.collection.GeometryCollection at 0x11a2861d0>"
      ]
     },
     "execution_count": 22,
     "metadata": {},
     "output_type": "execute_result"
    }
   ],
   "source": [
    "polygon1.union(linie2)"
   ]
  },
  {
   "cell_type": "markdown",
   "metadata": {},
   "source": [
    "Um alle shapes in einem Geodataframe zusammenzufügen: `.unary_union`"
   ]
  },
  {
   "cell_type": "code",
   "execution_count": 23,
   "metadata": {},
   "outputs": [
    {
     "data": {
      "image/svg+xml": [
       "<svg xmlns=\"http://www.w3.org/2000/svg\" xmlns:xlink=\"http://www.w3.org/1999/xlink\" width=\"100.0\" height=\"100.0\" viewBox=\"-0.8 -0.8 21.6 21.6\" preserveAspectRatio=\"xMinYMin meet\"><g transform=\"matrix(1,0,0,-1,0,20.0)\"><g><circle cx=\"5.0\" cy=\"5.0\" r=\"0.6480000000000001\" stroke=\"#555555\" stroke-width=\"0.21600000000000003\" fill=\"#66cc99\" opacity=\"0.6\" /><polyline fill=\"none\" stroke=\"#66cc99\" stroke-width=\"0.43200000000000005\" points=\"20.0,0.0 0.0,20.0\" opacity=\"0.8\" /></g></g></svg>"
      ],
      "text/plain": [
       "<shapely.geometry.collection.GeometryCollection at 0x11a29f3c8>"
      ]
     },
     "execution_count": 23,
     "metadata": {},
     "output_type": "execute_result"
    }
   ],
   "source": [
    "gdf.unary_union"
   ]
  },
  {
   "cell_type": "markdown",
   "metadata": {},
   "source": [
    "Auch hier können wir wieder eine Pufferzone darumlegen..."
   ]
  },
  {
   "cell_type": "code",
   "execution_count": 24,
   "metadata": {},
   "outputs": [
    {
     "data": {
      "image/svg+xml": [
       "<svg xmlns=\"http://www.w3.org/2000/svg\" xmlns:xlink=\"http://www.w3.org/1999/xlink\" width=\"100.0\" height=\"100.0\" viewBox=\"-1.3399999999999999 -1.3399999999999999 22.68 22.68\" preserveAspectRatio=\"xMinYMin meet\"><g transform=\"matrix(1,0,0,-1,0,20.0)\"><g><path fill-rule=\"evenodd\" fill=\"#66cc99\" stroke=\"#555555\" stroke-width=\"0.4536\" opacity=\"0.6\" d=\"M -0.35355339059327373,19.646446609406727 L -0.386505226681369,19.68280335791818 L -0.4157348061512731,19.7222148834902 L -0.4409606321741779,19.764301631587003 L -0.46193976625564365,19.808658283817454 L -0.4784701678661046,19.85485766137277 L -0.4903926402016153,19.902454838991936 L -0.4975923633360985,19.95099142983522 L -0.5,20.0 L -0.4975923633360984,20.04900857016478 L -0.49039264020161516,20.097545161008064 L -0.4784701678661043,20.14514233862723 L -0.46193976625564326,20.191341716182546 L -0.44096063217417747,20.235698368412997 L -0.4157348061512725,20.2777851165098 L -0.38650522668136833,20.31719664208182 L -0.35355339059327373,20.353553390593273 L -0.31719664208182285,20.38650522668137 L -0.27778511650980114,20.415734806151274 L -0.23569836841299885,20.44096063217418 L -0.19134171618254506,20.461939766255643 L -0.14514233862723153,20.478470167866103 L -0.09754516100806465,20.490392640201616 L -0.04900857016478099,20.4975923633361 L -8.575622497214414e-16,20.5 L 0.049008570164779275,20.4975923633361 L 0.09754516100806296,20.490392640201616 L 0.1451423386272299,20.478470167866107 L 0.19134171618254348,20.461939766255643 L 0.23569836841299732,20.44096063217418 L 0.2777851165097996,20.415734806151274 L 0.3171966420818212,20.38650522668137 L 0.35355339059327223,20.353553390593277 L 20.353553390593273,0.35355339059327373 L 20.38650522668137,0.3171966420818222 L 20.415734806151274,0.27778511650980053 L 20.44096063217418,0.2356983684129983 L 20.461939766255643,0.19134171618254436 L 20.478470167866103,0.1451423386272307 L 20.490392640201616,0.0975451610080637 L 20.4975923633361,0.04900857016477991 L 20.5,-3.3306690738754696e-16 L 20.4975923633361,-0.04900857016478057 L 20.490392640201616,-0.09754516100806435 L 20.478470167866103,-0.14514233862723133 L 20.461939766255643,-0.19134171618254497 L 20.44096063217418,-0.23569836841299888 L 20.415734806151274,-0.2777851165098011 L 20.38650522668137,-0.3171966420818227 L 20.353553390593273,-0.3535533905932737 L 20.31719664208182,-0.38650522668136833 L 20.2777851165098,-0.41573480615127245 L 20.235698368413,-0.44096063217417736 L 20.191341716182546,-0.46193976625564326 L 20.14514233862723,-0.4784701678661043 L 20.097545161008064,-0.4903926402016151 L 20.04900857016478,-0.49759236333609835 L 20.0,-0.5 L 19.95099142983522,-0.4975923633360986 L 19.902454838991936,-0.4903926402016155 L 19.85485766137277,-0.47847016786610486 L 19.808658283817458,-0.46193976625564404 L 19.764301631587003,-0.44096063217417836 L 19.7222148834902,-0.41573480615127373 L 19.68280335791818,-0.38650522668136983 L 19.646446609406727,-0.3535533905932754 L -0.35355339059327373,19.646446609406727 z\" /><path fill-rule=\"evenodd\" fill=\"#66cc99\" stroke=\"#555555\" stroke-width=\"0.4536\" opacity=\"0.6\" d=\"M 5.5,5.0 L 5.497592363336098,4.95099142983522 L 5.490392640201615,4.902454838991936 L 5.478470167866105,4.854857661372769 L 5.461939766255643,4.808658283817455 L 5.4409606321741775,4.764301631587001 L 5.4157348061512725,4.722214883490199 L 5.386505226681368,4.682803357918178 L 5.353553390593274,4.646446609406727 L 5.317196642081823,4.613494773318632 L 5.2777851165098015,4.5842651938487275 L 5.235698368412999,4.5590393678258225 L 5.191341716182546,4.538060233744357 L 5.145142338627232,4.521529832133896 L 5.097545161008065,4.509607359798385 L 5.049008570164781,4.502407636663902 L 5.000000000000001,4.5 L 4.950991429835221,4.502407636663902 L 4.902454838991937,4.509607359798385 L 4.85485766137277,4.521529832133895 L 4.808658283817456,4.538060233744356 L 4.764301631587002,4.559039367825822 L 4.722214883490199,4.584265193848727 L 4.6828033579181785,4.613494773318631 L 4.646446609406727,4.646446609406725 L 4.6134947733186324,4.682803357918177 L 4.5842651938487275,4.7222148834901985 L 4.5590393678258225,4.764301631587 L 4.538060233744357,4.808658283817454 L 4.521529832133896,4.854857661372768 L 4.509607359798385,4.902454838991935 L 4.502407636663902,4.950991429835219 L 4.5,4.999999999999999 L 4.502407636663902,5.04900857016478 L 4.509607359798385,5.097545161008064 L 4.521529832133895,5.145142338627231 L 4.538060233744357,5.191341716182545 L 4.5590393678258225,5.235698368412999 L 4.5842651938487275,5.277785116509801 L 4.613494773318632,5.317196642081822 L 4.646446609406726,5.353553390593274 L 4.682803357918177,5.386505226681368 L 4.7222148834901985,5.4157348061512725 L 4.764301631587001,5.4409606321741775 L 4.808658283817454,5.461939766255643 L 4.854857661372768,5.478470167866104 L 4.902454838991935,5.490392640201615 L 4.950991429835218,5.497592363336098 L 4.999999999999998,5.5 L 5.049008570164779,5.497592363336098 L 5.097545161008062,5.490392640201615 L 5.145142338627229,5.478470167866105 L 5.191341716182543,5.461939766255644 L 5.235698368412997,5.440960632174178 L 5.277785116509799,5.415734806151274 L 5.317196642081821,5.38650522668137 L 5.353553390593272,5.353553390593276 L 5.386505226681367,5.317196642081825 L 5.415734806151271,5.277785116509803 L 5.440960632174176,5.235698368413002 L 5.461939766255642,5.191341716182548 L 5.478470167866103,5.145142338627235 L 5.490392640201614,5.0975451610080675 L 5.497592363336098,5.049008570164784 L 5.5,5.000000000000004 L 5.5,5.0 z\" /></g></g></svg>"
      ],
      "text/plain": [
       "<shapely.geometry.multipolygon.MultiPolygon at 0x11a29f8d0>"
      ]
     },
     "execution_count": 24,
     "metadata": {},
     "output_type": "execute_result"
    }
   ],
   "source": [
    "gdf.unary_union.buffer(0.5)"
   ]
  },
  {
   "cell_type": "markdown",
   "metadata": {},
   "source": [
    "### Difference\n",
    "\n",
    "Die \"Differenz\" zwischen zwei Shapes"
   ]
  },
  {
   "cell_type": "code",
   "execution_count": 26,
   "metadata": {},
   "outputs": [],
   "source": [
    "polygon2 = Polygon([[5, 0], [5, 3], [7, 3], [7, 0]])"
   ]
  },
  {
   "cell_type": "code",
   "execution_count": 27,
   "metadata": {},
   "outputs": [
    {
     "data": {
      "image/svg+xml": [
       "<svg xmlns=\"http://www.w3.org/2000/svg\" xmlns:xlink=\"http://www.w3.org/1999/xlink\" width=\"100.0\" height=\"100.0\" viewBox=\"-0.4 -0.4 10.8 10.8\" preserveAspectRatio=\"xMinYMin meet\"><g transform=\"matrix(1,0,0,-1,0,10.0)\"><path fill-rule=\"evenodd\" fill=\"#66cc99\" stroke=\"#555555\" stroke-width=\"0.21600000000000003\" opacity=\"0.6\" d=\"M 5.0,0.0 L 0.0,0.0 L 0.0,10.0 L 10.0,10.0 L 10.0,0.0 L 7.0,0.0 L 7.0,3.0 L 5.0,3.0 L 5.0,0.0 z\" /></g></svg>"
      ],
      "text/plain": [
       "<shapely.geometry.polygon.Polygon at 0x11a28dc18>"
      ]
     },
     "execution_count": 27,
     "metadata": {},
     "output_type": "execute_result"
    }
   ],
   "source": [
    "polygon1.difference(polygon2)"
   ]
  },
  {
   "cell_type": "markdown",
   "metadata": {},
   "source": [
    "### Envelope\n",
    "\n",
    "Ähnlich wie Buffer - ein Rechteck, das ein Objekt umhüllt"
   ]
  },
  {
   "cell_type": "code",
   "execution_count": 28,
   "metadata": {},
   "outputs": [
    {
     "data": {
      "image/svg+xml": [
       "<svg xmlns=\"http://www.w3.org/2000/svg\" xmlns:xlink=\"http://www.w3.org/1999/xlink\" width=\"100.0\" height=\"100.0\" viewBox=\"-0.4 9.6 10.8 3.8000000000000007\" preserveAspectRatio=\"xMinYMin meet\"><g transform=\"matrix(1,0,0,-1,0,23.0)\"><path fill-rule=\"evenodd\" fill=\"#66cc99\" stroke=\"#555555\" stroke-width=\"0.21600000000000003\" opacity=\"0.6\" d=\"M 0.0,10.0 L 10.0,10.0 L 10.0,13.0 L 0.0,13.0 L 0.0,10.0 z\" /></g></svg>"
      ],
      "text/plain": [
       "<shapely.geometry.polygon.Polygon at 0x11a29f198>"
      ]
     },
     "execution_count": 28,
     "metadata": {},
     "output_type": "execute_result"
    }
   ],
   "source": [
    "linie2.envelope"
   ]
  },
  {
   "cell_type": "code",
   "execution_count": 29,
   "metadata": {},
   "outputs": [
    {
     "data": {
      "image/svg+xml": [
       "<svg xmlns=\"http://www.w3.org/2000/svg\" xmlns:xlink=\"http://www.w3.org/1999/xlink\" width=\"100.0\" height=\"100.0\" viewBox=\"-0.52 -0.52 11.04 14.04\" preserveAspectRatio=\"xMinYMin meet\"><g transform=\"matrix(1,0,0,-1,0,13.0)\"><g><path fill-rule=\"evenodd\" fill=\"#66cc99\" stroke=\"#555555\" stroke-width=\"0.2808\" opacity=\"0.6\" d=\"M 0.0,10.0 L 10.0,10.0 L 10.0,13.0 L 0.0,13.0 L 0.0,10.0 z\" /><path fill-rule=\"evenodd\" fill=\"#66cc99\" stroke=\"#555555\" stroke-width=\"0.2808\" opacity=\"0.6\" d=\"M 5.0,0.0 L 5.0,3.0 L 7.0,3.0 L 7.0,0.0 L 5.0,0.0 z\" /></g></g></svg>"
      ],
      "text/plain": [
       "<shapely.geometry.multipolygon.MultiPolygon at 0x11a29fba8>"
      ]
     },
     "execution_count": 29,
     "metadata": {},
     "output_type": "execute_result"
    }
   ],
   "source": [
    "linie2.envelope.union(polygon2)"
   ]
  },
  {
   "cell_type": "code",
   "execution_count": null,
   "metadata": {},
   "outputs": [],
   "source": []
  },
  {
   "cell_type": "code",
   "execution_count": null,
   "metadata": {},
   "outputs": [],
   "source": []
  },
  {
   "cell_type": "code",
   "execution_count": null,
   "metadata": {},
   "outputs": [],
   "source": []
  },
  {
   "cell_type": "code",
   "execution_count": null,
   "metadata": {},
   "outputs": [],
   "source": []
  }
 ],
 "metadata": {
  "kernelspec": {
   "display_name": "Python 3",
   "language": "python",
   "name": "python3"
  },
  "language_info": {
   "codemirror_mode": {
    "name": "ipython",
    "version": 3
   },
   "file_extension": ".py",
   "mimetype": "text/x-python",
   "name": "python",
   "nbconvert_exporter": "python",
   "pygments_lexer": "ipython3",
   "version": "3.7.3"
  }
 },
 "nbformat": 4,
 "nbformat_minor": 2
}
